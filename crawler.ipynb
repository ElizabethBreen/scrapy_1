{
 "cells": [
  {
   "cell_type": "markdown",
   "metadata": {},
   "source": [
    "# Web Scraping Notebook for Repertorium Academicum Germanicum"
   ]
  },
  {
   "cell_type": "markdown",
   "metadata": {},
   "source": [
    "The goal of this notebook is to scrape the data contained on the RAG website and deposit it into a csv usable for data analysis. \n",
    "\n",
    "Each observation is a person who attended a university in the middle ages\n",
    "\n",
    "The data I want to capture include: \n",
    "\n",
    "name, name of university, city, area of study for first degree awarded, date of first degree, area of study for second degree awarded, date of second degree, area of study for third degree awarded, area of study for third degree, student's city of origin\n",
    "\n",
    "\n",
    "Difficulties:\n",
    "\n",
    "1. The website is in German\n",
    "\n",
    "2. Some of the most crucial data is accessed through hyperlinks, meaning that I need to learn how to write code that can navigate hyperlinks.\n"
   ]
  },
  {
   "cell_type": "code",
   "execution_count": null,
   "metadata": {},
   "outputs": [],
   "source": []
  },
  {
   "cell_type": "code",
   "execution_count": null,
   "metadata": {},
   "outputs": [],
   "source": [
    "from scrapy import Selector\n",
    "import requests\n",
    "\n",
    "\n",
    "url = 'https://rag-online.org/datenbank/abfrage.p/datenbank/abfrage'\n",
    "\n",
    "html = requests.get( url ).content"
   ]
  },
  {
   "cell_type": "code",
   "execution_count": 3,
   "metadata": {},
   "outputs": [],
   "source": [
    "sel = Selector(text = html)"
   ]
  },
  {
   "cell_type": "code",
   "execution_count": null,
   "metadata": {},
   "outputs": [],
   "source": []
  },
  {
   "cell_type": "code",
   "execution_count": null,
   "metadata": {},
   "outputs": [],
   "source": []
  },
  {
   "cell_type": "code",
   "execution_count": null,
   "metadata": {},
   "outputs": [],
   "source": []
  },
  {
   "cell_type": "code",
   "execution_count": null,
   "metadata": {},
   "outputs": [],
   "source": []
  }
 ],
 "metadata": {
  "kernelspec": {
   "display_name": "Python 3",
   "language": "python",
   "name": "python3"
  },
  "language_info": {
   "codemirror_mode": {
    "name": "ipython",
    "version": 3
   },
   "file_extension": ".py",
   "mimetype": "text/x-python",
   "name": "python",
   "nbconvert_exporter": "python",
   "pygments_lexer": "ipython3",
   "version": "3.8.3"
  }
 },
 "nbformat": 4,
 "nbformat_minor": 4
}
